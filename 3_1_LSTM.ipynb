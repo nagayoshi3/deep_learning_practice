{
  "nbformat": 4,
  "nbformat_minor": 0,
  "metadata": {
    "colab": {
      "name": "3-1_LSTM.ipynb",
      "provenance": [],
      "collapsed_sections": [],
      "include_colab_link": true
    },
    "kernelspec": {
      "name": "python3",
      "display_name": "Python 3"
    }
  },
  "cells": [
    {
      "cell_type": "markdown",
      "metadata": {
        "id": "view-in-github",
        "colab_type": "text"
      },
      "source": [
        "<a href=\"https://colab.research.google.com/github/nagayoshi3/deep_learning_practice/blob/master/3_1_LSTM.ipynb\" target=\"_parent\"><img src=\"https://colab.research.google.com/assets/colab-badge.svg\" alt=\"Open In Colab\"/></a>"
      ]
    },
    {
      "cell_type": "markdown",
      "metadata": {
        "id": "jHDcLvmhvVxZ",
        "colab_type": "text"
      },
      "source": [
        "# LSTMを用いた時系列データ分析\n",
        "\n",
        "航空機の月別の乗客数データを使います。\n",
        "過去4ヶ月の乗客数から、次の乗客数を予測する。"
      ]
    },
    {
      "cell_type": "markdown",
      "metadata": {
        "id": "NClGewXhvc3r",
        "colab_type": "text"
      },
      "source": [
        "## データの取得"
      ]
    },
    {
      "cell_type": "code",
      "metadata": {
        "id": "Y83Pv9gc0QkF",
        "colab_type": "code",
        "outputId": "7c5bb42b-8e14-48da-93a0-90efd6d53e7d",
        "colab": {
          "base_uri": "https://localhost:8080/",
          "height": 615
        }
      },
      "source": [
        "!wget https://www.dropbox.com/s/l7lz1wwftbo8fwt/international-airline-passengers.csv?dl=0\n",
        "\n",
        "\n",
        "%matplotlib inline\n",
        "\n",
        "import pandas as pd\n",
        "\n",
        "dataframe = pd.read_csv('international-airline-passengers.csv?dl=0', engine='python', skipfooter=3)\n",
        "print(dataframe)\n",
        "\n",
        "\n",
        "%matplotlib inline\n",
        "\n",
        "import pandas as pd\n",
        "\n",
        "# データの読み込み（データセット中のYのみロード）\n",
        "dataframe = pd.read_csv('international-airline-passengers.csv?dl=0', usecols=[1], engine='python', skipfooter=3)\n",
        "dataset = dataframe.values.astype('float32')\n",
        "\n",
        "\n",
        "\n",
        "from sklearn.preprocessing import MinMaxScaler\n",
        "\n",
        "# [0,1]に正規化\n",
        "scaler = MinMaxScaler(feature_range=(0, 1))\n",
        "dataset = scaler.fit_transform(dataset)\n",
        "\n",
        "\n",
        "# 訓練データとテストデータを分割（時系列の予測が目的のため、ある時点から先をテストデータとする）\n",
        "train_size = int(len(dataset) * 0.67)\n",
        "test_size = len(dataset) - train_size\n",
        "train, test = dataset[0:train_size,:], dataset[train_size:len(dataset),:]\n",
        "\n",
        "\n",
        "import numpy as np\n",
        "\n",
        "# X=[data[t-look_back],...,data[t-1]], Y=data[t]となるデータセットに変換\n",
        "def create_dataset(dataset, look_back=1):\n",
        "    dataX, dataY = [], []\n",
        "    for i in range(len(dataset)-look_back-1):\n",
        "        a = dataset[i:(i+look_back), 0]\n",
        "        dataX.append(a)\n",
        "        dataY.append(dataset[i + look_back, 0])\n",
        "    return np.array(dataX), np.array(dataY)\n",
        "\n",
        "\n",
        "look_back = 3\n",
        "trainX, trainY = create_dataset(train, look_back)\n",
        "testX, testY = create_dataset(test, look_back)\n",
        "\n",
        "# [samples, time steps, features]へ変形\n",
        "trainX = np.reshape(trainX, (trainX.shape[0], trainX.shape[1], 1))\n",
        "testX = np.reshape(testX, (testX.shape[0], testX.shape[1], 1))"
      ],
      "execution_count": 0,
      "outputs": [
        {
          "output_type": "stream",
          "text": [
            "--2019-11-03 12:40:32--  https://www.dropbox.com/s/l7lz1wwftbo8fwt/international-airline-passengers.csv?dl=0\n",
            "Resolving www.dropbox.com (www.dropbox.com)... 162.125.9.1, 2620:100:601f:1::a27d:901\n",
            "Connecting to www.dropbox.com (www.dropbox.com)|162.125.9.1|:443... connected.\n",
            "HTTP request sent, awaiting response... 301 Moved Permanently\n",
            "Location: /s/raw/l7lz1wwftbo8fwt/international-airline-passengers.csv [following]\n",
            "--2019-11-03 12:40:32--  https://www.dropbox.com/s/raw/l7lz1wwftbo8fwt/international-airline-passengers.csv\n",
            "Reusing existing connection to www.dropbox.com:443.\n",
            "HTTP request sent, awaiting response... 302 Found\n",
            "Location: https://uc1dc8884af37b1ead2ce4ad6ee1.dl.dropboxusercontent.com/cd/0/inline/Arp0bpY3-sa6118Ki5OS2EgnIn0unobjFVdCMuJVpg15n45YT3NPaTo4qwylgcV9wKXmIuVhqZfrMeZsbxxOSYeaYcep5LTKy4Tr9iSOIXQ-Tg/file# [following]\n",
            "--2019-11-03 12:40:32--  https://uc1dc8884af37b1ead2ce4ad6ee1.dl.dropboxusercontent.com/cd/0/inline/Arp0bpY3-sa6118Ki5OS2EgnIn0unobjFVdCMuJVpg15n45YT3NPaTo4qwylgcV9wKXmIuVhqZfrMeZsbxxOSYeaYcep5LTKy4Tr9iSOIXQ-Tg/file\n",
            "Resolving uc1dc8884af37b1ead2ce4ad6ee1.dl.dropboxusercontent.com (uc1dc8884af37b1ead2ce4ad6ee1.dl.dropboxusercontent.com)... 162.125.9.6, 2620:100:601f:6::a27d:906\n",
            "Connecting to uc1dc8884af37b1ead2ce4ad6ee1.dl.dropboxusercontent.com (uc1dc8884af37b1ead2ce4ad6ee1.dl.dropboxusercontent.com)|162.125.9.6|:443... connected.\n",
            "HTTP request sent, awaiting response... 200 OK\n",
            "Length: 2334 (2.3K) [text/plain]\n",
            "Saving to: ‘international-airline-passengers.csv?dl=0.1’\n",
            "\n",
            "international-airli 100%[===================>]   2.28K  --.-KB/s    in 0s      \n",
            "\n",
            "2019-11-03 12:40:33 (268 MB/s) - ‘international-airline-passengers.csv?dl=0.1’ saved [2334/2334]\n",
            "\n",
            "       Month  International airline passengers: monthly totals in thousands. Jan 49 ? Dec 60\n",
            "0    1949-01                                                112                             \n",
            "1    1949-02                                                118                             \n",
            "2    1949-03                                                132                             \n",
            "3    1949-04                                                129                             \n",
            "4    1949-05                                                121                             \n",
            "..       ...                                                ...                             \n",
            "139  1960-08                                                606                             \n",
            "140  1960-09                                                508                             \n",
            "141  1960-10                                                461                             \n",
            "142  1960-11                                                390                             \n",
            "143  1960-12                                                432                             \n",
            "\n",
            "[144 rows x 2 columns]\n"
          ],
          "name": "stdout"
        }
      ]
    },
    {
      "cell_type": "markdown",
      "metadata": {
        "id": "n1rxpmgoDB1p",
        "colab_type": "text"
      },
      "source": [
        "## モデルの構築"
      ]
    },
    {
      "cell_type": "code",
      "metadata": {
        "id": "XqoglFAXkHwC",
        "colab_type": "code",
        "outputId": "59bfa071-9955-4c62-8468-8e32b61eded0",
        "colab": {
          "base_uri": "https://localhost:8080/",
          "height": 34
        }
      },
      "source": [
        "from tensorflow.keras.models import Sequential\n",
        "from tensorflow.keras.layers import Dense, Activation, LSTM\n",
        "\n",
        "\n",
        "model = Sequential()\n",
        "\n",
        "hidden_layer=4\n",
        "model.add(LSTM(hidden_layer, input_shape=(look_back, 1))) # input_shape=(系列長T, x_tの次元), output_shape=(units,)\n",
        "# LSTMの層を追加\n",
        "# hidden_layer: 隠れ層の数　ここでは4としている。\n",
        "\n",
        "model.add(Dense(1))\n",
        "\n",
        "model.compile(loss='mean_squared_error', optimizer='adam')\n",
        "model.summary"
      ],
      "execution_count": 0,
      "outputs": [
        {
          "output_type": "execute_result",
          "data": {
            "text/plain": [
              "<bound method Network.summary of <tensorflow.python.keras.engine.sequential.Sequential object at 0x7f81282bd3c8>>"
            ]
          },
          "metadata": {
            "tags": []
          },
          "execution_count": 6
        }
      ]
    },
    {
      "cell_type": "markdown",
      "metadata": {
        "id": "T4kC8Gsn77_s",
        "colab_type": "text"
      },
      "source": [
        "## モデルの学習"
      ]
    },
    {
      "cell_type": "code",
      "metadata": {
        "id": "tEeme2V5kH0p",
        "colab_type": "code",
        "outputId": "57403558-76ed-4080-c497-a76178c285e1",
        "colab": {
          "base_uri": "https://localhost:8080/",
          "height": 1000
        }
      },
      "source": [
        "model.fit(trainX, trainY, epochs=100, batch_size=1, verbose=2)"
      ],
      "execution_count": 0,
      "outputs": [
        {
          "output_type": "stream",
          "text": [
            "Train on 92 samples\n",
            "Epoch 1/100\n",
            "92/92 - 1s - loss: 0.0217\n",
            "Epoch 2/100\n",
            "92/92 - 0s - loss: 0.0101\n",
            "Epoch 3/100\n",
            "92/92 - 0s - loss: 0.0088\n",
            "Epoch 4/100\n",
            "92/92 - 0s - loss: 0.0075\n",
            "Epoch 5/100\n",
            "92/92 - 0s - loss: 0.0065\n",
            "Epoch 6/100\n",
            "92/92 - 0s - loss: 0.0057\n",
            "Epoch 7/100\n",
            "92/92 - 0s - loss: 0.0051\n",
            "Epoch 8/100\n",
            "92/92 - 0s - loss: 0.0047\n",
            "Epoch 9/100\n",
            "92/92 - 0s - loss: 0.0045\n",
            "Epoch 10/100\n",
            "92/92 - 0s - loss: 0.0040\n",
            "Epoch 11/100\n",
            "92/92 - 0s - loss: 0.0039\n",
            "Epoch 12/100\n",
            "92/92 - 0s - loss: 0.0037\n",
            "Epoch 13/100\n",
            "92/92 - 0s - loss: 0.0037\n",
            "Epoch 14/100\n",
            "92/92 - 0s - loss: 0.0036\n",
            "Epoch 15/100\n",
            "92/92 - 0s - loss: 0.0036\n",
            "Epoch 16/100\n",
            "92/92 - 0s - loss: 0.0037\n",
            "Epoch 17/100\n",
            "92/92 - 0s - loss: 0.0036\n",
            "Epoch 18/100\n",
            "92/92 - 0s - loss: 0.0036\n",
            "Epoch 19/100\n",
            "92/92 - 0s - loss: 0.0036\n",
            "Epoch 20/100\n",
            "92/92 - 0s - loss: 0.0037\n",
            "Epoch 21/100\n",
            "92/92 - 0s - loss: 0.0037\n",
            "Epoch 22/100\n",
            "92/92 - 0s - loss: 0.0036\n",
            "Epoch 23/100\n",
            "92/92 - 0s - loss: 0.0036\n",
            "Epoch 24/100\n",
            "92/92 - 0s - loss: 0.0036\n",
            "Epoch 25/100\n",
            "92/92 - 0s - loss: 0.0036\n",
            "Epoch 26/100\n",
            "92/92 - 0s - loss: 0.0035\n",
            "Epoch 27/100\n",
            "92/92 - 0s - loss: 0.0036\n",
            "Epoch 28/100\n",
            "92/92 - 0s - loss: 0.0035\n",
            "Epoch 29/100\n",
            "92/92 - 0s - loss: 0.0035\n",
            "Epoch 30/100\n",
            "92/92 - 0s - loss: 0.0034\n",
            "Epoch 31/100\n",
            "92/92 - 0s - loss: 0.0034\n",
            "Epoch 32/100\n",
            "92/92 - 0s - loss: 0.0035\n",
            "Epoch 33/100\n",
            "92/92 - 0s - loss: 0.0034\n",
            "Epoch 34/100\n",
            "92/92 - 0s - loss: 0.0035\n",
            "Epoch 35/100\n",
            "92/92 - 0s - loss: 0.0035\n",
            "Epoch 36/100\n",
            "92/92 - 0s - loss: 0.0034\n",
            "Epoch 37/100\n",
            "92/92 - 0s - loss: 0.0034\n",
            "Epoch 38/100\n",
            "92/92 - 0s - loss: 0.0034\n",
            "Epoch 39/100\n",
            "92/92 - 0s - loss: 0.0034\n",
            "Epoch 40/100\n",
            "92/92 - 0s - loss: 0.0033\n",
            "Epoch 41/100\n",
            "92/92 - 0s - loss: 0.0034\n",
            "Epoch 42/100\n",
            "92/92 - 0s - loss: 0.0034\n",
            "Epoch 43/100\n",
            "92/92 - 0s - loss: 0.0033\n",
            "Epoch 44/100\n",
            "92/92 - 0s - loss: 0.0033\n",
            "Epoch 45/100\n",
            "92/92 - 0s - loss: 0.0033\n",
            "Epoch 46/100\n",
            "92/92 - 0s - loss: 0.0033\n",
            "Epoch 47/100\n",
            "92/92 - 0s - loss: 0.0034\n",
            "Epoch 48/100\n",
            "92/92 - 0s - loss: 0.0032\n",
            "Epoch 49/100\n",
            "92/92 - 0s - loss: 0.0033\n",
            "Epoch 50/100\n",
            "92/92 - 0s - loss: 0.0032\n",
            "Epoch 51/100\n",
            "92/92 - 0s - loss: 0.0033\n",
            "Epoch 52/100\n",
            "92/92 - 0s - loss: 0.0032\n",
            "Epoch 53/100\n",
            "92/92 - 0s - loss: 0.0032\n",
            "Epoch 54/100\n",
            "92/92 - 0s - loss: 0.0032\n",
            "Epoch 55/100\n",
            "92/92 - 0s - loss: 0.0033\n",
            "Epoch 56/100\n",
            "92/92 - 0s - loss: 0.0032\n",
            "Epoch 57/100\n",
            "92/92 - 0s - loss: 0.0031\n",
            "Epoch 58/100\n",
            "92/92 - 0s - loss: 0.0031\n",
            "Epoch 59/100\n",
            "92/92 - 0s - loss: 0.0030\n",
            "Epoch 60/100\n",
            "92/92 - 0s - loss: 0.0031\n",
            "Epoch 61/100\n",
            "92/92 - 0s - loss: 0.0030\n",
            "Epoch 62/100\n",
            "92/92 - 0s - loss: 0.0030\n",
            "Epoch 63/100\n",
            "92/92 - 0s - loss: 0.0030\n",
            "Epoch 64/100\n",
            "92/92 - 0s - loss: 0.0030\n",
            "Epoch 65/100\n",
            "92/92 - 0s - loss: 0.0029\n",
            "Epoch 66/100\n",
            "92/92 - 0s - loss: 0.0030\n",
            "Epoch 67/100\n",
            "92/92 - 0s - loss: 0.0028\n",
            "Epoch 68/100\n",
            "92/92 - 0s - loss: 0.0028\n",
            "Epoch 69/100\n",
            "92/92 - 0s - loss: 0.0027\n",
            "Epoch 70/100\n",
            "92/92 - 0s - loss: 0.0027\n",
            "Epoch 71/100\n",
            "92/92 - 0s - loss: 0.0027\n",
            "Epoch 72/100\n",
            "92/92 - 0s - loss: 0.0026\n",
            "Epoch 73/100\n",
            "92/92 - 0s - loss: 0.0025\n",
            "Epoch 74/100\n",
            "92/92 - 0s - loss: 0.0025\n",
            "Epoch 75/100\n",
            "92/92 - 0s - loss: 0.0024\n",
            "Epoch 76/100\n",
            "92/92 - 0s - loss: 0.0024\n",
            "Epoch 77/100\n",
            "92/92 - 0s - loss: 0.0024\n",
            "Epoch 78/100\n",
            "92/92 - 0s - loss: 0.0023\n",
            "Epoch 79/100\n",
            "92/92 - 0s - loss: 0.0023\n",
            "Epoch 80/100\n",
            "92/92 - 0s - loss: 0.0023\n",
            "Epoch 81/100\n",
            "92/92 - 0s - loss: 0.0023\n",
            "Epoch 82/100\n",
            "92/92 - 0s - loss: 0.0021\n",
            "Epoch 83/100\n",
            "92/92 - 0s - loss: 0.0022\n",
            "Epoch 84/100\n",
            "92/92 - 0s - loss: 0.0020\n",
            "Epoch 85/100\n",
            "92/92 - 0s - loss: 0.0019\n",
            "Epoch 86/100\n",
            "92/92 - 0s - loss: 0.0021\n",
            "Epoch 87/100\n",
            "92/92 - 0s - loss: 0.0020\n",
            "Epoch 88/100\n",
            "92/92 - 0s - loss: 0.0020\n",
            "Epoch 89/100\n",
            "92/92 - 0s - loss: 0.0020\n",
            "Epoch 90/100\n",
            "92/92 - 0s - loss: 0.0019\n",
            "Epoch 91/100\n",
            "92/92 - 0s - loss: 0.0019\n",
            "Epoch 92/100\n",
            "92/92 - 0s - loss: 0.0019\n",
            "Epoch 93/100\n",
            "92/92 - 0s - loss: 0.0019\n",
            "Epoch 94/100\n",
            "92/92 - 0s - loss: 0.0019\n",
            "Epoch 95/100\n",
            "92/92 - 0s - loss: 0.0019\n",
            "Epoch 96/100\n",
            "92/92 - 0s - loss: 0.0019\n",
            "Epoch 97/100\n",
            "92/92 - 0s - loss: 0.0019\n",
            "Epoch 98/100\n",
            "92/92 - 0s - loss: 0.0018\n",
            "Epoch 99/100\n",
            "92/92 - 0s - loss: 0.0019\n",
            "Epoch 100/100\n",
            "92/92 - 0s - loss: 0.0019\n"
          ],
          "name": "stdout"
        },
        {
          "output_type": "execute_result",
          "data": {
            "text/plain": [
              "<tensorflow.python.keras.callbacks.History at 0x7f814befe208>"
            ]
          },
          "metadata": {
            "tags": []
          },
          "execution_count": 7
        }
      ]
    },
    {
      "cell_type": "markdown",
      "metadata": {
        "id": "vi2R-NYGDKX0",
        "colab_type": "text"
      },
      "source": [
        "## 評価"
      ]
    },
    {
      "cell_type": "code",
      "metadata": {
        "id": "tmFurZHJkH5-",
        "colab_type": "code",
        "outputId": "8cc0edbe-52cf-4bc8-d158-63567ee11f31",
        "colab": {
          "base_uri": "https://localhost:8080/",
          "height": 265
        }
      },
      "source": [
        "import math\n",
        "from sklearn.metrics import mean_squared_error\n",
        "\n",
        "# テストデータに対する予測（評価のため訓練データも）\n",
        "trainPredict = model.predict(trainX)\n",
        "testPredict = model.predict(testX)\n",
        "\n",
        "# 正規化を元に戻す\n",
        "trainPredict = scaler.inverse_transform(trainPredict)\n",
        "trainY = scaler.inverse_transform([trainY])\n",
        "testPredict = scaler.inverse_transform(testPredict)\n",
        "testY = scaler.inverse_transform([testY])\n",
        "\n",
        "import matplotlib.pyplot as plt\n",
        "\n",
        "# 訓練データ部分の予測データ\n",
        "trainPredictPlot = np.empty_like(dataset)\n",
        "trainPredictPlot[:, :] = np.nan\n",
        "trainPredictPlot[look_back:len(trainPredict)+look_back, :] = trainPredict\n",
        "\n",
        "# テストデータ部分の予測データ\n",
        "testPredictPlot = np.empty_like(dataset)\n",
        "testPredictPlot[:, :] = np.nan\n",
        "testPredictPlot[len(trainPredict)+(look_back*2)+1:len(dataset)-1, :] = testPredict\n",
        "\n",
        "plt.plot(scaler.inverse_transform(dataset), label='Dataset')\n",
        "plt.plot(trainPredictPlot, label='Prediction under train data')\n",
        "plt.plot(testPredictPlot, label='Prediction under test data')\n",
        "plt.legend()\n",
        "plt.show()"
      ],
      "execution_count": 0,
      "outputs": [
        {
          "output_type": "display_data",
          "data": {
            "image/png": "[encoded data removed]",
            "text/plain": [
              "<Figure size 432x288 with 1 Axes>"
            ]
          },
          "metadata": {
            "tags": []
          }
        }
      ]
    }
  ]
}