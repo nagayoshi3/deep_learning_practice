{
  "nbformat": 4,
  "nbformat_minor": 0,
  "metadata": {
    "colab": {
      "name": "1-2_Fashion_MNIST.ipynb",
      "provenance": [],
      "collapsed_sections": [],
      "include_colab_link": true
    },
    "kernelspec": {
      "name": "python3",
      "display_name": "Python 3"
    },
    "accelerator": "GPU"
  },
  "cells": [
    {
      "cell_type": "markdown",
      "metadata": {
        "id": "view-in-github",
        "colab_type": "text"
      },
      "source": [
        "<a href=\"https://colab.research.google.com/github/nagayoshi3/deep_learning_practice/blob/master/1_2_Fashion_MNIST.ipynb\" target=\"_parent\"><img src=\"https://colab.research.google.com/assets/colab-badge.svg\" alt=\"Open In Colab\"/></a>"
      ]
    },
    {
      "cell_type": "markdown",
      "metadata": {
        "id": "VNPURUPEHBbQ",
        "colab_type": "text"
      },
      "source": [
        "# ニューラルネットワークの基礎2"
      ]
    },
    {
      "cell_type": "markdown",
      "metadata": {
        "id": "lJIJxMYHv-QU",
        "colab_type": "text"
      },
      "source": [
        "## データの取得"
      ]
    },
    {
      "cell_type": "code",
      "metadata": {
        "id": "JF8Qn4IxQ2NY",
        "colab_type": "code",
        "outputId": "87d0bb2a-bc43-4809-b4d7-21332850d814",
        "colab": {
          "base_uri": "https://localhost:8080/",
          "height": 319
        }
      },
      "source": [
        "from tensorflow.keras.datasets import fashion_mnist\n",
        "\n",
        "(x_train, y_train), (x_test, y_test) = fashion_mnist.load_data()\n",
        "\n",
        "\n",
        "# データセットのサイズ\n",
        "print(x_train.shape) # 訓練データ\n",
        "print(x_test.shape) # テストデータ\n",
        "\n",
        "\n",
        "# データセットの表示\n",
        "%matplotlib inline\n",
        "import matplotlib.pyplot as plt\n",
        "\n",
        "fig = plt.figure(figsize=(9, 15))\n",
        "fig.subplots_adjust(left=0, right=1, bottom=0, top=0.5, hspace=0.05, wspace=0.05)\n",
        "\n",
        "for i in range(9):\n",
        "    ax = fig.add_subplot(1, 9, i + 1, xticks=[], yticks=[])\n",
        "    ax.imshow(x_train[i], cmap='gray')\n",
        "\n",
        "\n",
        "# データの整形\n",
        "from tensorflow.keras.utils import to_categorical\n",
        "\n",
        "x_train = x_train.reshape(-1, 784) / 255\n",
        "x_test = x_test.reshape(-1, 784) /255\n",
        "y_train = to_categorical(y_train)\n",
        "y_test = to_categorical(y_test)"
      ],
      "execution_count": 0,
      "outputs": [
        {
          "output_type": "display_data",
          "data": {
            "text/html": [
              "<p style=\"color: red;\">\n",
              "The default version of TensorFlow in Colab will soon switch to TensorFlow 2.x.<br>\n",
              "We recommend you <a href=\"https://www.tensorflow.org/guide/migrate\" target=\"_blank\">upgrade</a> now \n",
              "or ensure your notebook will continue to use TensorFlow 1.x via the <code>%tensorflow_version 1.x</code> magic:\n",
              "<a href=\"https://colab.research.google.com/notebooks/tensorflow_version.ipynb\" target=\"_blank\">more info</a>.</p>\n"
            ],
            "text/plain": [
              "<IPython.core.display.HTML object>"
            ]
          },
          "metadata": {
            "tags": []
          }
        },
        {
          "output_type": "stream",
          "text": [
            "Downloading data from https://storage.googleapis.com/tensorflow/tf-keras-datasets/train-labels-idx1-ubyte.gz\n",
            "32768/29515 [=================================] - 0s 0us/step\n",
            "Downloading data from https://storage.googleapis.com/tensorflow/tf-keras-datasets/train-images-idx3-ubyte.gz\n",
            "26427392/26421880 [==============================] - 0s 0us/step\n",
            "Downloading data from https://storage.googleapis.com/tensorflow/tf-keras-datasets/t10k-labels-idx1-ubyte.gz\n",
            "8192/5148 [===============================================] - 0s 0us/step\n",
            "Downloading data from https://storage.googleapis.com/tensorflow/tf-keras-datasets/t10k-images-idx3-ubyte.gz\n",
            "4423680/4422102 [==============================] - 0s 0us/step\n",
            "(60000, 28, 28)\n",
            "(10000, 28, 28)\n"
          ],
          "name": "stdout"
        },
        {
          "output_type": "display_data",
          "data": {
            "image/png": "[encoded data removed]",
            "text/plain": [
              "<Figure size 648x1080 with 9 Axes>"
            ]
          },
          "metadata": {
            "tags": []
          }
        }
      ]
    },
    {
      "cell_type": "markdown",
      "metadata": {
        "id": "Z5YU_1gswYA_",
        "colab_type": "text"
      },
      "source": [
        "## モデルの構築"
      ]
    },
    {
      "cell_type": "code",
      "metadata": {
        "id": "qDTdOkHbRcqN",
        "colab_type": "code",
        "outputId": "d5eaf600-455d-4139-a689-b155ca3c2d3e",
        "colab": {
          "base_uri": "https://localhost:8080/",
          "height": 462
        }
      },
      "source": [
        "# モデル構築\n",
        "from tensorflow.keras.models import Sequential\n",
        "from tensorflow.keras.layers import Dense, Activation, Dropout\n",
        "\n",
        "from IPython.display import SVG\n",
        "from tensorflow.python.keras.utils.vis_utils import model_to_dot\n",
        "\n",
        "# モデルの器を作成\n",
        "model = Sequential()\n",
        "\n",
        "# layerクラスを積み重ねる。\n",
        "model.add(Dense(512, input_shape=(784,), activation='relu', kernel_initializer='he_normal'))\n",
        "# he_normal は、正規分布による重みの初期化を行います。\n",
        "\n",
        "model.add(Dense(256, activation='relu', kernel_initializer='he_normal'))\n",
        "model.add(Dense(128, activation='relu', kernel_initializer='he_normal'))\n",
        "\n",
        "model.add(Dropout(0.3))\n",
        "# ドロップアウトは、このように簡単に実行することができます。入力ユニットをドロップする割合を表しています。\n",
        "\n",
        "model.add(Dense(64, activation='relu', kernel_initializer='he_normal'))\n",
        "model.add(Dense(32, activation='relu', kernel_initializer='he_normal'))\n",
        "model.add(Dense(10, activation='softmax'))\n",
        "\n",
        "model.compile(loss='categorical_crossentropy', optimizer='adam', metrics=['accuracy'])\n",
        "\n",
        "model.summary()"
      ],
      "execution_count": 0,
      "outputs": [
        {
          "output_type": "stream",
          "text": [
            "WARNING:tensorflow:From /usr/local/lib/python3.6/dist-packages/tensorflow_core/python/ops/resource_variable_ops.py:1630: calling BaseResourceVariable.__init__ (from tensorflow.python.ops.resource_variable_ops) with constraint is deprecated and will be removed in a future version.\n",
            "Instructions for updating:\n",
            "If using Keras pass *_constraint arguments to layers.\n",
            "Model: \"sequential\"\n",
            "_________________________________________________________________\n",
            "Layer (type)                 Output Shape              Param #   \n",
            "=================================================================\n",
            "dense (Dense)                (None, 512)               401920    \n",
            "_________________________________________________________________\n",
            "dense_1 (Dense)              (None, 256)               131328    \n",
            "_________________________________________________________________\n",
            "dense_2 (Dense)              (None, 128)               32896     \n",
            "_________________________________________________________________\n",
            "dropout (Dropout)            (None, 128)               0         \n",
            "_________________________________________________________________\n",
            "dense_3 (Dense)              (None, 64)                8256      \n",
            "_________________________________________________________________\n",
            "dense_4 (Dense)              (None, 32)                2080      \n",
            "_________________________________________________________________\n",
            "dense_5 (Dense)              (None, 10)                330       \n",
            "=================================================================\n",
            "Total params: 576,810\n",
            "Trainable params: 576,810\n",
            "Non-trainable params: 0\n",
            "_________________________________________________________________\n"
          ],
          "name": "stdout"
        }
      ]
    },
    {
      "cell_type": "markdown",
      "metadata": {
        "id": "WgHE_4kZxTNp",
        "colab_type": "text"
      },
      "source": [
        "## モデルの学習"
      ]
    },
    {
      "cell_type": "code",
      "metadata": {
        "id": "IF9-yyyVRglv",
        "colab_type": "code",
        "outputId": "5144be2f-a331-49d9-a422-eacf3517d7a1",
        "colab": {
          "base_uri": "https://localhost:8080/",
          "height": 391
        }
      },
      "source": [
        "from tensorflow.keras.callbacks import EarlyStopping\n",
        "\n",
        "early_stopping = EarlyStopping(patience=2, verbose=1)\n",
        "# patience: ここで指定したエポック数の間（監視する値に）改善がないと，訓練が停止します．\n",
        "\n",
        "model.fit(x_train, y_train, batch_size=1000, verbose=2, epochs=10, validation_data=(x_test, y_test), callbacks=[early_stopping])"
      ],
      "execution_count": 0,
      "outputs": [
        {
          "output_type": "stream",
          "text": [
            "Train on 60000 samples, validate on 10000 samples\n",
            "Epoch 1/10\n",
            "60000/60000 - 2s - loss: 0.8333 - acc: 0.7063 - val_loss: 0.4987 - val_acc: 0.8228\n",
            "Epoch 2/10\n",
            "60000/60000 - 1s - loss: 0.4649 - acc: 0.8367 - val_loss: 0.4223 - val_acc: 0.8519\n",
            "Epoch 3/10\n",
            "60000/60000 - 1s - loss: 0.3984 - acc: 0.8575 - val_loss: 0.3960 - val_acc: 0.8563\n",
            "Epoch 4/10\n",
            "60000/60000 - 1s - loss: 0.3623 - acc: 0.8698 - val_loss: 0.3712 - val_acc: 0.8671\n",
            "Epoch 5/10\n",
            "60000/60000 - 1s - loss: 0.3404 - acc: 0.8772 - val_loss: 0.3600 - val_acc: 0.8714\n",
            "Epoch 6/10\n",
            "60000/60000 - 1s - loss: 0.3183 - acc: 0.8838 - val_loss: 0.3579 - val_acc: 0.8715\n",
            "Epoch 7/10\n",
            "60000/60000 - 1s - loss: 0.3078 - acc: 0.8868 - val_loss: 0.3465 - val_acc: 0.8770\n",
            "Epoch 8/10\n",
            "60000/60000 - 1s - loss: 0.2852 - acc: 0.8950 - val_loss: 0.3409 - val_acc: 0.8776\n",
            "Epoch 9/10\n",
            "60000/60000 - 1s - loss: 0.2761 - acc: 0.8975 - val_loss: 0.3258 - val_acc: 0.8839\n",
            "Epoch 10/10\n",
            "60000/60000 - 1s - loss: 0.2638 - acc: 0.9028 - val_loss: 0.3433 - val_acc: 0.8786\n"
          ],
          "name": "stdout"
        },
        {
          "output_type": "execute_result",
          "data": {
            "text/plain": [
              "<tensorflow.python.keras.callbacks.History at 0x7fd9dd27afd0>"
            ]
          },
          "metadata": {
            "tags": []
          },
          "execution_count": 3
        }
      ]
    },
    {
      "cell_type": "markdown",
      "metadata": {
        "id": "1ALlGY5XxjVv",
        "colab_type": "text"
      },
      "source": [
        "## 評価"
      ]
    },
    {
      "cell_type": "code",
      "metadata": {
        "id": "FM3ONOpfRjhY",
        "colab_type": "code",
        "outputId": "e2409c25-6a27-4f40-96a7-b8a395103128",
        "colab": {
          "base_uri": "https://localhost:8080/",
          "height": 51
        }
      },
      "source": [
        "score = model.evaluate(x_test, y_test, verbose=0)\n",
        "print('Test loss:', score[0])\n",
        "print('Test accuracy:', score[1])"
      ],
      "execution_count": 0,
      "outputs": [
        {
          "output_type": "stream",
          "text": [
            "Test loss: 0.3433445581316948\n",
            "Test accuracy: 0.8786\n"
          ],
          "name": "stdout"
        }
      ]
    }
  ]
}