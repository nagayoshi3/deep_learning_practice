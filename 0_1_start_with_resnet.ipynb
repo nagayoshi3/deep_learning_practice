{
  "nbformat": 4,
  "nbformat_minor": 0,
  "metadata": {
    "colab": {
      "name": "0-1_start_with_resnet.ipynb",
      "provenance": [],
      "private_outputs": true,
      "include_colab_link": true
    },
    "kernelspec": {
      "name": "python3",
      "display_name": "Python 3"
    },
    "accelerator": "GPU"
  },
  "cells": [
    {
      "cell_type": "markdown",
      "metadata": {
        "id": "view-in-github",
        "colab_type": "text"
      },
      "source": [
        "<a href=\"https://colab.research.google.com/github/nagayoshi3/deep_learning_practice/blob/master/0_1_start_with_resnet.ipynb\" target=\"_parent\"><img src=\"https://colab.research.google.com/assets/colab-badge.svg\" alt=\"Open In Colab\"/></a>"
      ]
    },
    {
      "cell_type": "markdown",
      "metadata": {
        "id": "zAfzkDXzqqUR",
        "colab_type": "text"
      },
      "source": [
        "## モデルの構築\n"
      ]
    },
    {
      "cell_type": "code",
      "metadata": {
        "id": "_PU0zLRIq3Ba",
        "colab_type": "code",
        "colab": {}
      },
      "source": [
        "import numpy as np\n",
        "from keras.applications.resnet50 import ResNet50\n",
        "from keras.preprocessing import image\n",
        "from keras.applications.resnet50 import preprocess_input, decode_predictions\n",
        "from urllib import parse\n",
        "\n",
        "def recognize(image_path='cat.jpg'):\n",
        "  # ResNetの利用\n",
        "    model = ResNet50(weights='imagenet')\n",
        "    img = image.load_img(image_path, target_size=(224, 224))\n",
        "    x = image.img_to_array(img)\n",
        "    x = np.expand_dims(x, axis=0)\n",
        "    x = preprocess_input(x)\n",
        "\n",
        "    preds = model.predict(x)\n",
        "    p = decode_predictions(preds)\n",
        "    for pp in p:\n",
        "        for pp2 in pp:\n",
        "            print('候補 {0}: 確信度{1:.03f}'.format(pp2[1],pp2[2]))"
      ],
      "execution_count": 0,
      "outputs": []
    },
    {
      "cell_type": "markdown",
      "metadata": {
        "id": "FbIdqcO3rK16",
        "colab_type": "text"
      },
      "source": [
        "## データの取得と認識結果の表示"
      ]
    },
    {
      "cell_type": "code",
      "metadata": {
        "id": "Ah6y41JhG08S",
        "colab_type": "code",
        "colab": {}
      },
      "source": [
        "# この部分に画像のURLを貼り付けてください。\n",
        "!wget http://nara-park.com/wp-content/uploads/2017/06/s-%E6%98%A5%E6%97%A5%E9%87%8E%E5%9C%92%E5%9C%B0-%EF%BC%94%E3%81%AE%E9%B9%BF.jpg"
      ],
      "execution_count": 0,
      "outputs": []
    },
    {
      "cell_type": "code",
      "metadata": {
        "id": "Yj3fSOYttVkz",
        "colab_type": "code",
        "colab": {}
      },
      "source": [
        "# 取得したファイル名を貼り付けてください。\n",
        "file_name = 's-春日野園地-４の鹿.jpg'\n",
        "print(file_name)\n",
        "\n",
        "import matplotlib.pyplot as plt\n",
        "%matplotlib inline\n",
        "from PIL import Image\n",
        "plt.imshow(Image.open(file_name))\n",
        "\n",
        "# 認識結果の表示\n",
        "recognize(file_name)"
      ],
      "execution_count": 0,
      "outputs": []
    }
  ]
}