{
  "nbformat": 4,
  "nbformat_minor": 0,
  "metadata": {
    "colab": {
      "name": "1-1_mnist.ipynb",
      "provenance": [],
      "collapsed_sections": [],
      "include_colab_link": true
    },
    "kernelspec": {
      "name": "python3",
      "display_name": "Python 3"
    },
    "accelerator": "GPU"
  },
  "cells": [
    {
      "cell_type": "markdown",
      "metadata": {
        "id": "view-in-github",
        "colab_type": "text"
      },
      "source": [
        "<a href=\"https://colab.research.google.com/github/nagayoshi3/deep_learning_practice/blob/master/1_1_mnist.ipynb\" target=\"_parent\"><img src=\"https://colab.research.google.com/assets/colab-badge.svg\" alt=\"Open In Colab\"/></a>"
      ]
    },
    {
      "cell_type": "markdown",
      "metadata": {
        "id": "_E1MMIzEFXY7",
        "colab_type": "text"
      },
      "source": [
        "# ニューラルネットワーク の基礎1"
      ]
    },
    {
      "cell_type": "markdown",
      "metadata": {
        "id": "aC_g57gDEhQ6",
        "colab_type": "text"
      },
      "source": [
        "## データの取得"
      ]
    },
    {
      "cell_type": "code",
      "metadata": {
        "id": "MYfDm0lKEWYo",
        "colab_type": "code",
        "outputId": "9556bda0-abb3-4aa6-eae8-efa06fa49fde",
        "colab": {
          "base_uri": "https://localhost:8080/",
          "height": 233
        }
      },
      "source": [
        "from tensorflow.keras.datasets import mnist\n",
        "\n",
        "# データの読み込み\n",
        "(x_train, y_train), (x_test, y_test) = mnist.load_data()\n",
        "\n",
        "\n",
        "%matplotlib inline\n",
        "import matplotlib.pyplot as plt\n",
        "\n",
        "\n",
        "# 画像の表示\n",
        "fig = plt.figure(figsize=(9, 15))\n",
        "fig.subplots_adjust(left=0, right=1, bottom=0, top=0.5, hspace=0.05, wspace=0.05)\n",
        "\n",
        "for i in range(9):\n",
        "    ax = fig.add_subplot(1, 9, i + 1, xticks=[], yticks=[])\n",
        "    ax.set_title(str(y_train[i]))\n",
        "    ax.imshow(x_train[i], cmap='gray')\n",
        "\n",
        "\n",
        "# データの整形\n",
        "from tensorflow.keras.utils import to_categorical\n",
        "\n",
        "x_train = x_train.reshape(-1, 784)\n",
        "x_test = x_test.reshape(-1, 784)\n",
        "# 画像データを784の数字の列に変換しています。\n",
        "\n",
        "# データセットのサイズ\n",
        "print(x_train.shape) # 訓練データ\n",
        "print(x_test.shape) # テストデータ\n",
        "\n",
        "\n",
        "y_train = to_categorical(y_train)\n",
        "y_test = to_categorical(y_test)"
      ],
      "execution_count": 0,
      "outputs": [
        {
          "output_type": "display_data",
          "data": {
            "text/html": [
              "<p style=\"color: red;\">\n",
              "The default version of TensorFlow in Colab will soon switch to TensorFlow 2.x.<br>\n",
              "We recommend you <a href=\"https://www.tensorflow.org/guide/migrate\" target=\"_blank\">upgrade</a> now \n",
              "or ensure your notebook will continue to use TensorFlow 1.x via the <code>%tensorflow_version 1.x</code> magic:\n",
              "<a href=\"https://colab.research.google.com/notebooks/tensorflow_version.ipynb\" target=\"_blank\">more info</a>.</p>\n"
            ],
            "text/plain": [
              "<IPython.core.display.HTML object>"
            ]
          },
          "metadata": {
            "tags": []
          }
        },
        {
          "output_type": "stream",
          "text": [
            "Downloading data from https://storage.googleapis.com/tensorflow/tf-keras-datasets/mnist.npz\n",
            "11493376/11490434 [==============================] - 0s 0us/step\n",
            "(60000, 784)\n",
            "(10000, 784)\n"
          ],
          "name": "stdout"
        },
        {
          "output_type": "display_data",
          "data": {
            "image/png": "[encoded data removed]",
            "text/plain": [
              "<Figure size 648x1080 with 9 Axes>"
            ]
          },
          "metadata": {
            "tags": []
          }
        }
      ]
    },
    {
      "cell_type": "markdown",
      "metadata": {
        "id": "bshGxl6ZEv4E",
        "colab_type": "text"
      },
      "source": [
        "## モデルの構築\n",
        "\n",
        "どんなlayer（層）をどこに配置するか、また各layerのユニット数はいくつかを指定していきます。\n",
        "\n",
        "\n",
        "このモデルを構築するための「容器」として機能するのが、keras.models.Sequentialクラスです。\n",
        "\n",
        "\n",
        "この「容器」の中に、Sequential.add関数によってkeras.layersに定義されているlayerクラスを積み重ねていくことでモデルの構築を行います。\n",
        "\n",
        "\n",
        "layerをSequentialクラスに積み終えたら、最後にSequential.compile関数でモデルの学習処理について指定し、モデル構築は完了です。\n",
        "\n"
      ]
    },
    {
      "cell_type": "code",
      "metadata": {
        "colab_type": "code",
        "id": "HNtUIV_SEIMd",
        "outputId": "735bbb2c-8f3d-4ce0-8c87-344084a49ae8",
        "colab": {
          "base_uri": "https://localhost:8080/",
          "height": 428
        }
      },
      "source": [
        "from tensorflow.keras.models import Sequential\n",
        "from tensorflow.keras.layers import Dense, Activation\n",
        "\n",
        "# モデルの器を作成\n",
        "model = Sequential()\n",
        "\n",
        "# layerクラスを積み重ねる。\n",
        "model.add(Dense(units=256, input_shape=(784,)))\n",
        "#units: 出力ユニット数、input_shape: 入力データのサイズ\n",
        "\n",
        "model.add(Activation('relu'))\n",
        "# 活性化関数として relu を選択\n",
        "\n",
        "model.add(Dense(units=100)) \n",
        "model.add(Activation('relu'))\n",
        "model.add(Dense(units=10))\n",
        "model.add(Activation('softmax'))\n",
        "\n",
        "model.compile(loss='categorical_crossentropy', optimizer='sgd', metrics=['accuracy'])\n",
        "\n",
        "'''\n",
        "compile関数\n",
        "- optimizer（学習率の最適化手法） 'sgd','adam'など\n",
        "- loss（損失関数） 他クラス分類：交差エントロピー誤差関数\n",
        "- metrics（評価関数（任意））\n",
        "'''\n",
        "\n",
        "model.summary()"
      ],
      "execution_count": 0,
      "outputs": [
        {
          "output_type": "stream",
          "text": [
            "WARNING:tensorflow:From /usr/local/lib/python3.6/dist-packages/tensorflow_core/python/ops/resource_variable_ops.py:1630: calling BaseResourceVariable.__init__ (from tensorflow.python.ops.resource_variable_ops) with constraint is deprecated and will be removed in a future version.\n",
            "Instructions for updating:\n",
            "If using Keras pass *_constraint arguments to layers.\n",
            "Model: \"sequential\"\n",
            "_________________________________________________________________\n",
            "Layer (type)                 Output Shape              Param #   \n",
            "=================================================================\n",
            "dense (Dense)                (None, 256)               200960    \n",
            "_________________________________________________________________\n",
            "activation (Activation)      (None, 256)               0         \n",
            "_________________________________________________________________\n",
            "dense_1 (Dense)              (None, 100)               25700     \n",
            "_________________________________________________________________\n",
            "activation_1 (Activation)    (None, 100)               0         \n",
            "_________________________________________________________________\n",
            "dense_2 (Dense)              (None, 10)                1010      \n",
            "_________________________________________________________________\n",
            "activation_2 (Activation)    (None, 10)                0         \n",
            "=================================================================\n",
            "Total params: 227,670\n",
            "Trainable params: 227,670\n",
            "Non-trainable params: 0\n",
            "_________________________________________________________________\n"
          ],
          "name": "stdout"
        }
      ]
    },
    {
      "cell_type": "markdown",
      "metadata": {
        "id": "tTBQtJZPp2Bm",
        "colab_type": "text"
      },
      "source": [
        "### モデルの学習\n",
        "構築したモデルで実際に学習を行うには、Sequential.fit関数を用います。\n",
        "\n",
        "\n"
      ]
    },
    {
      "cell_type": "code",
      "metadata": {
        "colab_type": "code",
        "outputId": "7c66f032-62a3-4b7d-c6d9-6bb829b398cf",
        "id": "UI7DZYI-EIMX",
        "colab": {
          "base_uri": "https://localhost:8080/",
          "height": 411
        }
      },
      "source": [
        "# 学習\n",
        "model.fit(x_train, y_train, batch_size=1000, epochs=10, verbose=1, validation_data=(x_test, y_test))\n",
        "\n",
        "'''\n",
        "主な引数は次の通りです。\n",
        "\n",
        "- x：学習に使用する入力データ\n",
        "- y：学習に使用する出力データ\n",
        "- batch_size：学習中のパラメータ更新を1回行うにあたって用いるサンプル数（ミニバッチのサイズ）\n",
        "- epochs：学習のエポック数\n",
        "- verbose：学習のログを出力するか（0:しない、1：バーで出力、2:エポックごとに出力）\n",
        "'''"
      ],
      "execution_count": 0,
      "outputs": [
        {
          "output_type": "stream",
          "text": [
            "Train on 60000 samples, validate on 10000 samples\n",
            "Epoch 1/10\n",
            "60000/60000 [==============================] - 1s 20us/sample - loss: nan - acc: 0.1016 - val_loss: nan - val_acc: 0.0980\n",
            "Epoch 2/10\n",
            "60000/60000 [==============================] - 0s 7us/sample - loss: nan - acc: 0.0987 - val_loss: nan - val_acc: 0.0980\n",
            "Epoch 3/10\n",
            "60000/60000 [==============================] - 0s 7us/sample - loss: nan - acc: 0.0987 - val_loss: nan - val_acc: 0.0980\n",
            "Epoch 4/10\n",
            "60000/60000 [==============================] - 0s 7us/sample - loss: nan - acc: 0.0987 - val_loss: nan - val_acc: 0.0980\n",
            "Epoch 5/10\n",
            "60000/60000 [==============================] - 0s 7us/sample - loss: nan - acc: 0.0987 - val_loss: nan - val_acc: 0.0980\n",
            "Epoch 6/10\n",
            "60000/60000 [==============================] - 0s 7us/sample - loss: nan - acc: 0.0987 - val_loss: nan - val_acc: 0.0980\n",
            "Epoch 7/10\n",
            "60000/60000 [==============================] - 0s 7us/sample - loss: nan - acc: 0.0987 - val_loss: nan - val_acc: 0.0980\n",
            "Epoch 8/10\n",
            "60000/60000 [==============================] - 0s 7us/sample - loss: nan - acc: 0.0987 - val_loss: nan - val_acc: 0.0980\n",
            "Epoch 9/10\n",
            "60000/60000 [==============================] - 0s 7us/sample - loss: nan - acc: 0.0987 - val_loss: nan - val_acc: 0.0980\n",
            "Epoch 10/10\n",
            "60000/60000 [==============================] - 0s 7us/sample - loss: nan - acc: 0.0987 - val_loss: nan - val_acc: 0.0980\n"
          ],
          "name": "stdout"
        },
        {
          "output_type": "execute_result",
          "data": {
            "text/plain": [
              "'\\n主な引数は次の通りです。\\n\\n- x：学習に使用する入力データ\\n- y：学習に使用する出力データ\\n- batch_size：学習中のパラメータ更新を1回行うにあたって用いるサンプル数（ミニバッチのサイズ）\\n- epochs：学習のエポック数\\n- verbose：学習のログを出力するか（0:しない、1：バーで出力、2:エポックごとに出力）\\n'"
            ]
          },
          "metadata": {
            "tags": []
          },
          "execution_count": 3
        }
      ]
    },
    {
      "cell_type": "markdown",
      "metadata": {
        "id": "OTr-77YoE6Ye",
        "colab_type": "text"
      },
      "source": [
        "### 評価"
      ]
    },
    {
      "cell_type": "code",
      "metadata": {
        "colab_type": "code",
        "outputId": "1a0aaf27-980a-4ff4-cb2e-881e0d73b7e7",
        "id": "c81iNMqiEIMQ",
        "colab": {
          "base_uri": "https://localhost:8080/",
          "height": 51
        }
      },
      "source": [
        "score = model.evaluate(x_test, y_test, verbose=0)\n",
        "print('Test loss:', score[0])\n",
        "print('Test accuracy:', score[1])"
      ],
      "execution_count": 0,
      "outputs": [
        {
          "output_type": "stream",
          "text": [
            "Test loss: nan\n",
            "Test accuracy: 0.098\n"
          ],
          "name": "stdout"
        }
      ]
    },
    {
      "cell_type": "markdown",
      "metadata": {
        "colab_type": "text",
        "id": "YTBpjw-uEIMM"
      },
      "source": [
        ""
      ]
    }
  ]
}